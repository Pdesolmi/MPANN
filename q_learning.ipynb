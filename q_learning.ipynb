{
 "cells": [
  {
   "cell_type": "code",
   "execution_count": 10,
   "metadata": {},
   "outputs": [],
   "source": [
    "import numpy as np\n",
    "from tic_env import TictactoeEnv, OptimalPlayer"
   ]
  },
  {
   "cell_type": "code",
   "execution_count": 11,
   "metadata": {},
   "outputs": [],
   "source": [
    "env = TictactoeEnv()"
   ]
  },
  {
   "cell_type": "code",
   "execution_count": 12,
   "metadata": {},
   "outputs": [],
   "source": [
    "import random"
   ]
  },
  {
   "cell_type": "code",
   "execution_count": 29,
   "metadata": {},
   "outputs": [],
   "source": [
    "# helper functions\n",
    "\n",
    "#check if the game is over\n",
    "def checkEnd(grid):\n",
    "    # check rows and cols\n",
    "    if np.any(np.sum(grid, axis=0) == 3) or np.any(np.sum(grid, axis=1) == 3):\n",
    "        end = True\n",
    "        winner = 'X'\n",
    "    elif np.any(np.sum(grid, axis=0) == -3) or np.any(np.sum(grid, axis=1) == -3):\n",
    "        end = True\n",
    "        winner = 'O'\n",
    "    # check diagnols\n",
    "    elif grid[[0,1,2],[0,1,2]].sum() == 3 or grid[[0,1,2],[2,1,0]].sum() == 3:\n",
    "        end = True\n",
    "        winner = 'X'\n",
    "    elif grid[[0,1,2],[0,1,2]].sum() == -3 or grid[[0,1,2],[2,1,0]].sum() == -3:\n",
    "        end = True\n",
    "        winner = 'O'\n",
    "    # check if all the positions are filled\n",
    "    elif (grid == 0).sum() == 0:\n",
    "        end = True\n",
    "        winner = None # no one wins\n",
    "    else:\n",
    "        end = False\n",
    "        winner = None\n",
    "\n",
    "    return end, winner\n"
   ]
  },
  {
   "cell_type": "code",
   "execution_count": 34,
   "metadata": {},
   "outputs": [
    {
     "name": "stdout",
     "output_type": "stream",
     "text": [
      "{}\n",
      "[[0. 0. 0.]\n",
      " [0. 0. 0.]\n",
      " [0. 0. 0.]]\n",
      "{(0.0, 0.0, 0.0, 0.0, 0.0, 0.0, 0.0, 0.0, 0.0): {(0, 0): 0, (0, 1): 0, (0, 2): 0, (1, 0): 0, (1, 1): 0, (1, 2): 0, (2, 0): 0, (2, 1): 0, (2, 2): 0}}\n"
     ]
    }
   ],
   "source": [
    "class QLearningAgent:\n",
    "    def __init__(self, epsilon=0.2, alpha=0.1, gamma=0.9, player='X', env=None):\n",
    "        self.epsilon = epsilon\n",
    "        self.alpha = alpha\n",
    "        self.gamma = gamma\n",
    "        self.player = player\n",
    "        if player == 'X':\n",
    "            self.player_number = 1\n",
    "        else: \n",
    "            self.player_number = -1\n",
    "        self.env = env\n",
    "        self.last_SA = None\n",
    "        self.Q_table = {}\n",
    "\n",
    "    def empty(self, grid):\n",
    "        '''return all empty positions'''\n",
    "        avail = []\n",
    "        for i in range(9):\n",
    "            pos = (int(i/3), i % 3)\n",
    "            if grid[pos] == 0:\n",
    "                avail.append(pos)\n",
    "        return avail\n",
    "\n",
    "\n",
    "\n",
    "    def check_q_table_and_update(self, grid):\n",
    "        state = tuple(grid.flatten())\n",
    "        if state not in self.Q_table:\n",
    "            avail = self.empty(grid)\n",
    "            self.Q_table[state] = {}\n",
    "            for pos in avail:\n",
    "                self.Q_table[state][pos] = 0\n",
    "\n",
    "        if self.last_SA is not None:\n",
    "            #check if all q values are zero\n",
    "            all_zero = True\n",
    "            for pos in self.Q_table[state]:\n",
    "                if self.Q_table[state][pos] != 0:\n",
    "                    all_zero = False\n",
    "            if all_zero:\n",
    "                #get random action\n",
    "                supposed_action = random.choice(list(self.Q_table[state]))\n",
    "            else:\n",
    "                supposed_action = max(self.Q_table[state], key=self.Q_table[state].get)\n",
    "            possible_grid = grid.copy()\n",
    "            possible_grid[supposed_action] = self.player_number\n",
    "            # check if the game is over\n",
    "            reward = 0\n",
    "            end, winner = checkEnd(possible_grid)\n",
    "            if end:\n",
    "                if winner:\n",
    "                    if winner == self.player:\n",
    "                        reward = 1\n",
    "                    else:\n",
    "                        reward = -1\n",
    "\n",
    "            temporal_difference = reward + self.gamma * self.Q_table[state][supposed_action] - self.Q_table[self.last_SA[0]][self.last_SA[1]]\n",
    "            self.Q_table[self.last_SA[0]][self.last_SA[1]] += self.alpha * temporal_difference\n",
    "\n",
    "                \n",
    "\n",
    "\n",
    "    def act(self, grid):\n",
    "        if np.random.random() < self.epsilon:\n",
    "            avail = self.empty(grid)\n",
    "            return avail[random.randint(0, len(avail)-1)]\n",
    "\n",
    "        else:\n",
    "            state = tuple(grid.flatten())\n",
    "            all_zero = True\n",
    "            for pos in self.Q_table[state]:\n",
    "                if self.Q_table[state][pos] != 0:\n",
    "                    all_zero = False\n",
    "            if all_zero:\n",
    "                #get random action\n",
    "                action = random.choice(list(self.Q_table[state]))\n",
    "            else:\n",
    "            # if not, go greedy\n",
    "                action = max(self.Q_table[state], key=self.Q_table[state].get)\n",
    "                \n",
    "            return action\n",
    "\n",
    "\n",
    "\n",
    "\n",
    "\n",
    "q_player = QLearningAgent(player='X', epsilon=0.2)\n",
    "r_player = OptimalPlayer(epsilon=1, player='O')\n",
    "grid, _, __ = env.observe()\n",
    "\n",
    "#convert grid to tuple\n",
    "\n",
    "print(q_player.Q_table)\n",
    "print(grid)\n",
    "q_player.check_q_table_and_update(grid)\n",
    "# q_player.act(grid)\n",
    "# print(q_player.act(grid))\n",
    "print(q_player.Q_table)\n",
    "\n"
   ]
  },
  {
   "cell_type": "code",
   "execution_count": 14,
   "metadata": {},
   "outputs": [
    {
     "ename": "SyntaxError",
     "evalue": "invalid syntax (2273742928.py, line 25)",
     "output_type": "error",
     "traceback": [
      "\u001b[1;36m  Input \u001b[1;32mIn [14]\u001b[1;36m\u001b[0m\n\u001b[1;33m    delta_q = q_player.gamma *\u001b[0m\n\u001b[1;37m                               ^\u001b[0m\n\u001b[1;31mSyntaxError\u001b[0m\u001b[1;31m:\u001b[0m invalid syntax\n"
     ]
    }
   ],
   "source": [
    "env.reset()\n",
    "grid, _, __ = env.observe()\n",
    "player_opt = OptimalPlayer(epsilon=0., player='X')\n",
    "player_q = QLearningAgent(epsilon=0.2, player='O')\n",
    "for j in range(9):\n",
    "    if env.current_player == player_opt.player:\n",
    "        move = player_opt.act(grid)\n",
    "    else:\n",
    "        move = player_q.act(grid)\n",
    "\n",
    "    grid, end, winner = env.step(move, print_grid=False)\n",
    "\n",
    "    if end:\n",
    "        print('-------------------------------------------')\n",
    "        print('Game end, winner is player ' + str(winner))\n",
    "        print('Optimal player = ' +  Turns[0])\n",
    "        print('Random player = ' +  Turns[1])\n",
    "        print(env.reward(winner))\n",
    "        env.render()\n",
    "        env.reset()\n",
    "        break\n",
    "    else:\n",
    "        if env.current_player != player_q.player:\n",
    "            last_q_value = q_player.Q[q_player.last_pos]\n",
    "            delta_q = q_player.gamma * \n"
   ]
  },
  {
   "cell_type": "code",
   "execution_count": 15,
   "metadata": {},
   "outputs": [
    {
     "data": {
      "text/plain": [
       "{'grid': array([[0., 0., 0.],\n",
       "        [0., 0., 0.],\n",
       "        [0., 0., 0.]]),\n",
       " 'end': False,\n",
       " 'winner': None,\n",
       " 'player2value': {'X': 1, 'O': -1},\n",
       " 'num_step': 0,\n",
       " 'current_player': 'X'}"
      ]
     },
     "execution_count": 15,
     "metadata": {},
     "output_type": "execute_result"
    }
   ],
   "source": [
    "env.reset()\n",
    "env.__dict__"
   ]
  },
  {
   "cell_type": "code",
   "execution_count": 16,
   "metadata": {},
   "outputs": [
    {
     "name": "stdout",
     "output_type": "stream",
     "text": [
      "[[0. 0. 0. 0.]\n",
      " [0. 0. 0. 0.]]\n"
     ]
    }
   ],
   "source": [
    "a = np.zeros((2,4))\n",
    "\n",
    "print(a)"
   ]
  },
  {
   "cell_type": "code",
   "execution_count": null,
   "metadata": {},
   "outputs": [],
   "source": []
  }
 ],
 "metadata": {
  "interpreter": {
   "hash": "f6246b25e200e4c5124e3e61789ac81350562f0761bbcf92ad9e48654207659c"
  },
  "kernelspec": {
   "display_name": "Python 3.9.4 64-bit",
   "language": "python",
   "name": "python3"
  },
  "language_info": {
   "codemirror_mode": {
    "name": "ipython",
    "version": 3
   },
   "file_extension": ".py",
   "mimetype": "text/x-python",
   "name": "python",
   "nbconvert_exporter": "python",
   "pygments_lexer": "ipython3",
   "version": "3.9.4"
  },
  "orig_nbformat": 4
 },
 "nbformat": 4,
 "nbformat_minor": 2
}
